{
 "cells": [
  {
   "cell_type": "code",
   "execution_count": null,
   "metadata": {},
   "outputs": [],
   "source": []
  },
  {
   "cell_type": "code",
   "execution_count": null,
   "metadata": {},
   "outputs": [],
   "source": [
    "from spks import *\n",
    "# from pathlib import Path\n",
    "folder = Path('/scratch/ks25_sorting_20230905_131941_tr9v')\n",
    "\n",
    "with open(folder/'params.py','r') as f:\n",
    "    params = f.read()\n",
    "params = params.split('\\n')\n",
    "for i,p in enumerate(params):\n",
    "    if p.startswith('dat_path'):\n",
    "        params[i] = \"dat_path = 'filtered_recording.ap.bin'\"\n",
    "with open(folder/'params.py','w') as f:\n",
    "    f.write(\"\\n\".join(params))\n"
   ]
  },
  {
   "cell_type": "code",
   "execution_count": null,
   "metadata": {},
   "outputs": [],
   "source": [
    "%matplotlib widget\n",
    "\n",
    "from spks import *\n",
    "\n",
    "folder = Path('/scratch/ks25_sorting_20230905_131941_tr9v')\n",
    "sp = Clusters(folder, get_waveforms=True)\n"
   ]
  },
  {
   "cell_type": "code",
   "execution_count": null,
   "metadata": {},
   "outputs": [],
   "source": []
  },
  {
   "cell_type": "code",
   "execution_count": null,
   "metadata": {},
   "outputs": [],
   "source": [
    "sp & 'KSLabel = good' & 'shank = 1'"
   ]
  },
  {
   "cell_type": "code",
   "execution_count": null,
   "metadata": {},
   "outputs": [],
   "source": [
    "[sp.cluster_groups.KSLabel == 'good']"
   ]
  },
  {
   "cell_type": "code",
   "execution_count": null,
   "metadata": {},
   "outputs": [],
   "source": [
    "from spks import *\n",
    "\n",
    "sp = Clusters(folder='/home/data/JC131/20230909_175248/kilosort25/imec0/')\n",
    "sessions = ['/home/data/JC131/20230909_175248','/home/data/JC131/20230909_194417']\n",
    "\n",
    "# Load the log and all for the stimulus.\n",
    "# med filter to get rid of noise (this takes a while)\n",
    "(onsets,offsets),(sync,meta),sessiondata = load_ni_sync_data(sessions[0])\n",
    "from scipy.ndimage import median_filter\n",
    "photodiode = np.array(median_filter(sync[:,0].flatten(),61)>12500,dtype = int)\n",
    "a = np.where(np.diff(photodiode) != 0)[0]\n",
    "log = pd.read_csv(list(Path(sessions[0]).glob('adaptation*/*.csv'))[0])\n",
    "# get the sync interpolation function\n",
    "from scipy.interpolate import interp1d\n",
    "interpfunction = interp1d(np.array(onsets[7]),sessiondata[0]['file0_sync_onsets'][6],fill_value='extrapolate')\n",
    "log['photodiode_samples'] = interpfunction(a).astype(np.uint64)\n",
    "\n",
    "from btss import read_visual_protocol\n",
    "\n",
    "options,params = read_visual_protocol(list(Path(sessions[0]).glob('adaptation*/*.visprot'))[0])\n",
    "\n",
    "params = params[params.contrast>0]\n",
    "stim_idx = np.hstack([1,params.iloc[np.where(np.diff(params.mu)!=0)[0]].index])\n",
    "\n",
    "\n",
    "srate = sessiondata[0]['sampling_rate']\n",
    "ksgood = []\n",
    "for i in tqdm(sp.cluster_groups[sp.cluster_groups['KSLabel'] == 'good'].cluster_id.values, desc = 'Collecting \"good\" units'):\n",
    "    ii = np.where(sp.unique_clusters==i)[0]\n",
    "    ksgood.append(sp[ii]/srate)\n",
    "    \n",
    "# aaa = np.where(np.diff(photodiode) != 0)[0]\n",
    "events = np.array(log.photodiode_samples)/srate\n",
    "\n",
    "ts = get_triggered_spikes(ksgood,events, 0, 0.3)"
   ]
  },
  {
   "cell_type": "code",
   "execution_count": null,
   "metadata": {},
   "outputs": [],
   "source": [
    "\n",
    "%matplotlib widget\n",
    "plot_raster(ts[64][:1000],offset = 0,colors = ['r']*500 +['k']*500)\n",
    "plot_raster(ts[64][1000:],offset = 1000,colors = 'b')\n"
   ]
  },
  {
   "cell_type": "code",
   "execution_count": null,
   "metadata": {},
   "outputs": [],
   "source": [
    "import matplotlib.style as mplstyle\n",
    "mplstyle.use('fast')\n",
    "\n",
    "# icluster = 20\n",
    "# wave = sp.get_cluster_waveforms(icluster,n_waveforms=50)\n",
    "# plot_footprints(wave,sp.channel_positions,gain=[10,0.05],lw = 0.1,color='k');\n",
    "# plot_footprints(sp.cluster_waveforms_mean[sp.unique_clusters==icluster],sp.channel_positions,gain=[10,0.05],color='r',lw=1);\n",
    "sp.cluster_waveforms_std[1].shape"
   ]
  },
  {
   "cell_type": "code",
   "execution_count": null,
   "metadata": {},
   "outputs": [],
   "source": [
    "icluster = 0\n",
    "\n",
    "\n",
    "interactive_cluster_waveforms(sp)"
   ]
  },
  {
   "cell_type": "code",
   "execution_count": null,
   "metadata": {},
   "outputs": [],
   "source": [
    "sp.unique_clusters == 96"
   ]
  },
  {
   "cell_type": "code",
   "execution_count": null,
   "metadata": {},
   "outputs": [],
   "source": [
    "plot_func(234)"
   ]
  },
  {
   "cell_type": "code",
   "execution_count": null,
   "metadata": {},
   "outputs": [],
   "source": [
    "waveforms = sp.cluster_waveforms_mean\n",
    "channel_positions = sp.channel_positions\n",
    "\n",
    "peak_to_peak = (waveforms.max(axis = 1) - waveforms.min(axis = 1))\n",
    "# the amplitude of each waveform is the max of the peak difference for all channels\n",
    "amplitude = np.abs(peak_to_peak).max(axis=1)\n",
    "# compute the center of mass (X,Y) of the waveforms\n",
    "centerofmass = [peak_to_peak*pos for pos in channel_positions.T]\n",
    "centerofmass = np.vstack([np.sum(t,axis =1 )/np.sum(peak_to_peak,axis = 1) \n",
    "                                    for t in centerofmass]).T\n",
    "# the peak channel is the absolute max of the peak_to_peak\n",
    "peak_channels = np.argmax(np.abs(peak_to_peak),axis = 1)\n",
    "print(peak_to_peak.shape,waveforms.shape,peak_channels.shape)"
   ]
  },
  {
   "cell_type": "code",
   "execution_count": null,
   "metadata": {},
   "outputs": [],
   "source": [
    "plt.figure()\n",
    "plt.plot(peak_to_peak[234])\n",
    "peak_channels = np.argmax(np.max(np.abs(waveforms),axis=1),axis=1)\n",
    "# peak_channels = np.argmax(np.abs(peak_to_peak),axis = 1)\n",
    "plt.plot(peak_channels[234],peak_to_peak[234][peak_channels[234]],'ro')\n",
    "channel_positions[peak_channels[234]]"
   ]
  },
  {
   "cell_type": "code",
   "execution_count": null,
   "metadata": {},
   "outputs": [],
   "source": [
    "plt.figure()\n",
    "maxim = waveforms.max(axis=1)\n",
    "pc2 = np.argmax(np.abs(waveforms).max(axis=1),axis=1)\n",
    "imaxim = waveforms.argmax(axis=1)\n",
    "minim = waveforms.min(axis=1)\n",
    "iminim = waveforms.argmin(axis=1)\n",
    "icluster = 144\n",
    "# mm = maxim[icluster][iw]-minim[icluster][iw]\n",
    "pc = np.argmax(maxim-minim,axis=1)\n",
    "for iw in range(waveforms[icluster].shape[1]):\n",
    "    x,y = channel_positions[iw]\n",
    "    plt.plot(x+0.4*np.arange(waveforms.shape[1]),waveforms[icluster][:,iw]*0.1+y,lw=0.5,color='k');\n",
    "    plt.plot(x+0.4*imaxim[icluster][iw],maxim[icluster][iw]*0.1+y,'ro',markersize = 1);\n",
    "    plt.plot(x+0.4*iminim[icluster][iw],minim[icluster][iw]*0.1+y,'bo',markersize = 1);\n",
    "    col='k'\n",
    "    if iw == pc2[icluster]:\n",
    "        col = 'r'\n",
    "    if iw == principal_channel[icluster]:\n",
    "        col = 'g'\n",
    "\n",
    "    plt.text(x+0.4*30,y,'{0:.0f}'.format(maxim[icluster][iw]-minim[icluster][iw]),fontsize=5,color = col);"
   ]
  },
  {
   "cell_type": "code",
   "execution_count": null,
   "metadata": {},
   "outputs": [],
   "source": [
    "imaxim.shape"
   ]
  },
  {
   "cell_type": "code",
   "execution_count": null,
   "metadata": {},
   "outputs": [],
   "source": [
    "\n",
    "# folder\n",
    "dat2 = map_binary(folder/'filtered_recording.ap.bin',meta['nchannels'])\n",
    "meta = load_dict_from_h5(folder/'filtered_recording.ap.metadata.hdf')\n",
    "meta['file_offsets'],dat.file_sample_offsets,dat.shape,dat2.shape"
   ]
  },
  {
   "cell_type": "code",
   "execution_count": null,
   "metadata": {},
   "outputs": [],
   "source": [
    "# Extract waveforms\n",
    "folder = Path('/scratch/ks25_sorting_20230905_131941_tr9v')\n",
    "sessionfiles = ['/home/data/JC131/20230901_113844/ephys_g0/ephys_g0_imec0/ephys_g0_t0.imec0.ap.bin',\n",
    "                '/home/data/JC131/20230901_115632/ephys_g1/ephys_g1_imec0/ephys_g1_t0.imec0.ap.bin']\n",
    "\n",
    "dat = RawRecording(sessionfiles,return_preprocessed = False)\n",
    "\n",
    "meta = load_dict_from_h5(folder/'filtered_recording.ap.metadata.hdf')\n",
    "dat2 = map_binary(folder/'filtered_recording.ap.bin',meta['nchannels'])\n",
    "\n",
    "sp = Clusters(folder)\n",
    "\n",
    "mwaves = extract_waveform_set(spike_times = sp,\n",
    "                              data = dat2,\n",
    "                              chmap = dat.channel_info.channel_idx.values,\n",
    "                              max_n_spikes=1000,\n",
    "                              chunksize=10)\n",
    "waveforms = {}\n",
    "for iclu,w in zip(sp.unique_clusters,mwaves):\n",
    "    waveforms[iclu] = w\n",
    "save_dict_to_h5(folder/'cluster_waveforms.hdf',waveforms)\n"
   ]
  },
  {
   "cell_type": "code",
   "execution_count": null,
   "metadata": {},
   "outputs": [],
   "source": [
    "\n",
    "\n"
   ]
  },
  {
   "cell_type": "code",
   "execution_count": null,
   "metadata": {},
   "outputs": [],
   "source": [
    "\n",
    "\n",
    "#waveforms = load_dict_from_h5(folder/'cluster_waveforms.hdf')\n",
    "\n",
    "import h5py as h5\n",
    "waveforms_file = h5.File(folder/'cluster_waveforms.hdf','r')"
   ]
  },
  {
   "cell_type": "code",
   "execution_count": null,
   "metadata": {},
   "outputs": [],
   "source": [
    "\n",
    "    \n"
   ]
  },
  {
   "cell_type": "code",
   "execution_count": null,
   "metadata": {},
   "outputs": [],
   "source": []
  },
  {
   "cell_type": "code",
   "execution_count": null,
   "metadata": {},
   "outputs": [],
   "source": [
    "# %matplotlib widget \n",
    "import pylab as plt\n",
    "from spks import *\n",
    "\n",
    "plt.figure()\n",
    "\n",
    "\n",
    "iclus = 200\n",
    "for mw in mwaves[iclus][:20]:\n",
    "    plot_footprints(waves = waveforms,\n",
    "                    channel_xy = np.stack(dat.channel_info.channel_coord.values), gain=[15,0.07],lw = 0.1);\n",
    "\n",
    "plot_footprints(waves = mwaves[iclus].mean(axis=0),\n",
    "                    channel_xy = np.stack(dat.channel_info.channel_coord.values), gain=[15,0.07],lw = 1,color = 'r');"
   ]
  },
  {
   "cell_type": "code",
   "execution_count": null,
   "metadata": {},
   "outputs": [],
   "source": [
    "\n",
    "pos, peak = waveforms_position(sp.templates_raw,sp.channel_positions)\n",
    "peak_to_peak = (sp.templates_raw.max(axis = 1) - sp.templates_raw.min(axis = 1)).max(axis=1)\n",
    "\n",
    "###\n",
    "import pylab as plt\n",
    "%matplotlib widget\n",
    "plt.figure()\n",
    "plt.plot(sp.channel_positions[:,0],sp.channel_positions[:,1],'o',color='lightgray')\n",
    "plt.scatter(pos[20,0],pos[20,1],30,peak_to_peak[20],alpha = 0.5,cmap='hot')\n",
    "plt.colorbar()\n",
    "plt.plot(sp.channel_positions[peak[20],0],sp.channel_positions[peak[20],1],'x')\n",
    "from spks.viz import plot_footprints\n",
    "plot_footprints(sp.templates_raw[20],sp.channel_positions,gain=[5,0.3]);\n",
    "plt.show()"
   ]
  },
  {
   "cell_type": "code",
   "execution_count": null,
   "metadata": {},
   "outputs": [],
   "source": [
    "sp['unit selection','probe','shank','unit']"
   ]
  },
  {
   "cell_type": "code",
   "execution_count": null,
   "metadata": {},
   "outputs": [],
   "source": [
    "spike_clusters = sp.clusters\n",
    "spike_times = sp.spike_times\n"
   ]
  },
  {
   "cell_type": "code",
   "execution_count": null,
   "metadata": {},
   "outputs": [],
   "source": [
    "sp.templates_raw.shape"
   ]
  },
  {
   "cell_type": "code",
   "execution_count": null,
   "metadata": {},
   "outputs": [],
   "source": [
    "\n",
    "\n",
    "get_overlapping_spikes_indices(sp.spike_times,sp.clusters, sp.templates_raw, sp.channel_positions)"
   ]
  },
  {
   "cell_type": "code",
   "execution_count": null,
   "metadata": {},
   "outputs": [],
   "source": [
    "\n"
   ]
  },
  {
   "cell_type": "code",
   "execution_count": null,
   "metadata": {},
   "outputs": [],
   "source": [
    "\n",
    "\n"
   ]
  },
  {
   "cell_type": "code",
   "execution_count": null,
   "metadata": {},
   "outputs": [],
   "source": [
    "    "
   ]
  },
  {
   "cell_type": "code",
   "execution_count": null,
   "metadata": {},
   "outputs": [],
   "source": [
    "list(folder.glob(\"*\"))"
   ]
  },
  {
   "cell_type": "code",
   "execution_count": null,
   "metadata": {},
   "outputs": [],
   "source": [
    "from spks.sorting import run_ks25\n",
    "sessionfiles = ['/home/data/JC131/20230901_113844/ephys_g0/ephys_g0_imec0/ephys_g0_t0.imec0.ap.bin',\n",
    "                '/home/data/JC131/20230901_115632/ephys_g1/ephys_g1_imec0/ephys_g1_t0.imec0.ap.bin']\n",
    "\n",
    "run_ks25(sessionfiles)\n",
    "\n",
    "with open(folder/'params.py','r') as f:\n",
    "    params = f.read()\n",
    "params = params.split('\\n')\n",
    "for i,p in enumerate(params):\n",
    "    if p.startswith('dat_path'):\n",
    "        params[i] = \"dat_path = 'filtered_recording.ap.bin'\"\n",
    "with open(folder/'params.py','w') as f:\n",
    "    f.write(\"\\n\".join(params))"
   ]
  }
 ],
 "metadata": {
  "kernelspec": {
   "display_name": "Python 3 (ipykernel)",
   "language": "python",
   "name": "python3"
  },
  "language_info": {
   "codemirror_mode": {
    "name": "ipython",
    "version": 3
   },
   "file_extension": ".py",
   "mimetype": "text/x-python",
   "name": "python",
   "nbconvert_exporter": "python",
   "pygments_lexer": "ipython3",
   "version": "3.11.5"
  }
 },
 "nbformat": 4,
 "nbformat_minor": 4
}
