{
 "cells": [
  {
   "cell_type": "code",
   "execution_count": null,
   "metadata": {},
   "outputs": [],
   "source": []
  },
  {
   "cell_type": "code",
   "execution_count": null,
   "metadata": {},
   "outputs": [],
   "source": [
    "from spks import *\n",
    "# from pathlib import Path\n",
    "folder = Path('/scratch/ks25_sorting_20230905_131941_tr9v')\n",
    "\n",
    "with open(folder/'params.py','r') as f:\n",
    "    params = f.read()\n",
    "params = params.split('\\n')\n",
    "for i,p in enumerate(params):\n",
    "    if p.startswith('dat_path'):\n",
    "        params[i] = \"dat_path = 'filtered_recording.ap.bin'\"\n",
    "with open(folder/'params.py','w') as f:\n",
    "    f.write(\"\\n\".join(params))\n"
   ]
  },
  {
   "cell_type": "code",
   "execution_count": null,
   "metadata": {},
   "outputs": [],
   "source": [
    "%matplotlib widget\n",
    "\n",
    "from spks import *\n",
    "\n",
    "\n",
    "\n",
    "    # class timestamps():\n",
    "    #     def __init__(self)\n",
    "\n",
    "folder = Path('/scratch/ks25_sorting_20230905_131941_tr9v')\n",
    "\n",
    "sp = Clusters(folder)\n"
   ]
  },
  {
   "cell_type": "code",
   "execution_count": null,
   "metadata": {},
   "outputs": [],
   "source": [
    "def plot_footprints(waves, channel_xy, gain = (10,0.01),shade_data = None,shade_color = 'k',shade_alpha=0.3,\n",
    "                                srate = 30000, plotscale=None, ax = None,**kwargs):\n",
    "    '''\n",
    "    Plots multichannel waveforms \n",
    "    \n",
    "    \n",
    "    Inputs:\n",
    "    -------\n",
    "        - waves (nspikes x nsamples x nchannels) or (nsamples x nchannels)\n",
    "        - channel_xy positions (nchannels x 2)\n",
    "        - gain (2d tuple)\n",
    "        - srate (for the scale)\n",
    "        - plotscale: True to draw the scale\n",
    "    '''\n",
    "    import pylab as plt\n",
    "    \n",
    "    p = []\n",
    "    if ax is None:\n",
    "        ax = plt.gca()\n",
    "    if len(waves.shape) == 2:\n",
    "        # plotting mean waveforms (these must be average waveforms)\n",
    "        waves = waves.copy().reshape(1,*waves.shape)\n",
    "    wtime = (1000.*(np.arange(waves.shape[1])-waves.shape[1]/2)/srate).astype(np.float32)\n",
    "    for iw,wv in enumerate(waves):\n",
    "        for i in range(wv.shape[1]):\n",
    "            # plot each channel\n",
    "            p.append(ax.plot(wtime*gain[0] + channel_xy[i,0],\n",
    "                              wv[:,i]*gain[1]+channel_xy[i,1],\n",
    "                             clip_on=False,**kwargs))\n",
    "            if not shade_data is None:\n",
    "                ax.fill_between(wtime*gain[0] + channel_xy[i,0],\n",
    "                              (wv[:,i]+shade_data[iw,:,i])*gain[1]+channel_xy[i,1],\n",
    "                              (wv[:,i]-shade_data[iw,:,i])*gain[1]+channel_xy[i,1],alpha = shade_alpha,\n",
    "                              edgecolor = None,\n",
    "                              facecolor=shade_color)\n",
    "        miny = np.min(abs(np.diff(channel_xy[:,1])))\n",
    "        ax.axis([np.min(channel_xy[:,0]),\n",
    "                 np.max(channel_xy[:,0])+wtime[-1]*gain[0],\n",
    "                np.min(channel_xy[:,1])-miny,\n",
    "                np.max(channel_xy[:,1])+miny])\n",
    "        ax.axis('off')\n",
    "    if not plotscale is None:\n",
    "        t = []\n",
    "        # X scale\n",
    "        x = plotscale[0] * np.array([0,1])*gain[0] - gain[0]/6.\n",
    "        y = np.array([0,0])+np.min(channel_xy[i,0]) - gain[1]/2.\n",
    "\n",
    "        p.append(plt.plot(x,y,'k',clip_on = False,lw = 1))\n",
    "        t.append(ax.text(np.diff(x)/2. + np.min(x),np.min(y),\n",
    "                r'{0} ms'.format(plotscale[0]),\n",
    "                va = 'top',ha='center',fontsize=8))\n",
    "        # Y scale\n",
    "        x = np.array([0,0])-gain[0]/6.\n",
    "        y = np.array([0,plotscale[1]*gain[1]])+np.min(channel_xy[i]) - gain[1]/2.\n",
    "        p.append(plt.plot(x,y,'k',clip_on = False,lw = 1))\n",
    "        t.append(ax.text(np.min(x),np.diff(y)/2. + np.min(y),\n",
    "                r'{0} $\\mu$V'.format(plotscale[1]),\n",
    "                rotation = 90,va = 'center',ha='right',fontsize=8))\n",
    "        return p,t\n",
    "    return p\n"
   ]
  },
  {
   "cell_type": "code",
   "execution_count": null,
   "metadata": {},
   "outputs": [],
   "source": [
    "import matplotlib.style as mplstyle\n",
    "mplstyle.use('fast')\n",
    "\n",
    "# icluster = 20\n",
    "# wave = sp.get_cluster_waveforms(icluster,n_waveforms=50)\n",
    "# plot_footprints(wave,sp.channel_positions,gain=[10,0.05],lw = 0.1,color='k');\n",
    "# plot_footprints(sp.cluster_waveforms_mean[sp.unique_clusters==icluster],sp.channel_positions,gain=[10,0.05],color='r',lw=1);\n",
    "sp.cluster_waveforms_std[1][:,electrodes[1]]"
   ]
  },
  {
   "cell_type": "code",
   "execution_count": null,
   "metadata": {},
   "outputs": [],
   "source": [
    "icluster = 0\n",
    "\n",
    "fig = plt.figure()\n",
    "ax_waves = fig.add_axes([0.1,0.1,0.8,0.8])\n",
    "cluster_positions,principal_channel = waveforms_position(sp.cluster_waveforms_mean,sp.channel_positions)\n",
    "electrodes = []\n",
    "for p in principal_channel:\n",
    "    electrodes.append(np.where(np.array([np.linalg.norm(c - sp.channel_positions[p]) for c in sp.channel_positions])<100)[0])\n",
    "\n",
    "def plot_func(icluster = 20):\n",
    "    icluster = int(icluster)\n",
    "    clu_num = sp.unique_clusters[icluster]\n",
    "    ax_waves.cla()\n",
    "    ax_waves.plot(sp.channel_positions[:,0],sp.channel_positions[:,1],'kx',markersize = 3,alpha = 0.5)\n",
    "  \n",
    "    # wave = sp.get_cluster_waveforms(icluster,n_waveforms=50)\n",
    "    # plot_footprints(wave[:,:,electrodes[icluster]],sp.channel_positions[electrodes[icluster]],gain=[10,0.05],lw = 0.1,color='k');\n",
    "    plot_footprints(sp.cluster_waveforms_mean[clu_num][:,electrodes[clu_num]],\n",
    "                    sp.channel_positions[electrodes[clu_num]],gain=[10,0.05],color='r',lw=1,ax = ax_waves);\n",
    "    plot_footprints(sp.cluster_waveforms_mean[clu_num][:,electrodes[clu_num]],\n",
    "                    sp.channel_positions[electrodes[clu_num]],\n",
    "                    shade_data = sp.cluster_waveforms_std[clu_num][:,electrodes[clu_num]],\n",
    "                    gain=[10,0.05],color='k',lw=1,ax = ax_waves);\n",
    "    ax_waves.plot(sp.channel_positions[principal_channel[clu_num],0],\n",
    "    sp.channel_positions[principal_channel[clu_num],1],'ro',markersize = 5,alpha = 0.5)\n",
    "    wtime = (1000.*(np.arange(sp.cluster_waveforms_mean.shape[1])-sp.cluster_waveforms_mean.shape[1]/2)/30000).astype(np.float32)\n",
    "\n",
    "    ax_waves.plot(wtime*10 + sp.channel_positions[principal_channel[clu_num],0],\n",
    "                sp.cluster_waveforms_mean[clu_num][:,principal_channel[clu_num]].squeeze()*0.05+sp.channel_positions[principal_channel[clu_num],1],\n",
    "                             clip_on=False,color = 'b')\n",
    "    ax_waves.axis('tight')\n",
    "plot_func(icluster=20)\n",
    "\n",
    "\n",
    "ax_select = fig.add_axes([0.25, 0.1, 0.65, 0.03])\n",
    "from matplotlib.widgets import Slider\n",
    "sel_slider = Slider(\n",
    "    ax=ax_select,\n",
    "    label='cluster',\n",
    "    valmin=0,\n",
    "    valmax=len(sp)-1,\n",
    "    valinit=20,\n",
    ")\n",
    "sel_slider.on_changed(plot_func)\n",
    "\n",
    "def on_press(event):\n",
    "    if event.key == 'right':\n",
    "        icluster = np.clip(int(sel_slider.val) + 1,0,len(sp)-1)\n",
    "        sel_slider.set_val(icluster)\n",
    "    elif event.key == 'left':\n",
    "        icluster = np.clip(int(sel_slider.val) - 1,0,len(sp)-1)\n",
    "        sel_slider.set_val(icluster)\n",
    "\n",
    "fig.canvas.mpl_connect('key_press_event', on_press)"
   ]
  },
  {
   "cell_type": "code",
   "execution_count": null,
   "metadata": {},
   "outputs": [],
   "source": [
    "sp.unique_clusters == 96"
   ]
  },
  {
   "cell_type": "code",
   "execution_count": null,
   "metadata": {},
   "outputs": [],
   "source": [
    "plot_func(234)"
   ]
  },
  {
   "cell_type": "code",
   "execution_count": null,
   "metadata": {},
   "outputs": [],
   "source": [
    "waveforms = sp.cluster_waveforms_mean\n",
    "channel_positions = sp.channel_positions\n",
    "\n",
    "peak_to_peak = (waveforms.max(axis = 1) - waveforms.min(axis = 1))\n",
    "# the amplitude of each waveform is the max of the peak difference for all channels\n",
    "amplitude = np.abs(peak_to_peak).max(axis=1)\n",
    "# compute the center of mass (X,Y) of the waveforms\n",
    "centerofmass = [peak_to_peak*pos for pos in channel_positions.T]\n",
    "centerofmass = np.vstack([np.sum(t,axis =1 )/np.sum(peak_to_peak,axis = 1) \n",
    "                                    for t in centerofmass]).T\n",
    "# the peak channel is the absolute max of the peak_to_peak\n",
    "peak_channels = np.argmax(np.abs(peak_to_peak),axis = 1)\n",
    "print(peak_to_peak.shape,waveforms.shape,peak_channels.shape)"
   ]
  },
  {
   "cell_type": "code",
   "execution_count": null,
   "metadata": {},
   "outputs": [],
   "source": [
    "plt.figure()\n",
    "plt.plot(peak_to_peak[234])\n",
    "peak_channels = np.argmax(np.max(np.abs(waveforms),axis=1),axis=1)\n",
    "# peak_channels = np.argmax(np.abs(peak_to_peak),axis = 1)\n",
    "plt.plot(peak_channels[234],peak_to_peak[234][peak_channels[234]],'ro')\n",
    "channel_positions[peak_channels[234]]"
   ]
  },
  {
   "cell_type": "code",
   "execution_count": null,
   "metadata": {},
   "outputs": [],
   "source": [
    "plt.figure()\n",
    "maxim = waveforms.max(axis=1)\n",
    "pc2 = np.argmax(np.abs(waveforms).max(axis=1),axis=1)\n",
    "imaxim = waveforms.argmax(axis=1)\n",
    "minim = waveforms.min(axis=1)\n",
    "iminim = waveforms.argmin(axis=1)\n",
    "icluster = 144\n",
    "# mm = maxim[icluster][iw]-minim[icluster][iw]\n",
    "pc = np.argmax(maxim-minim,axis=1)\n",
    "for iw in range(waveforms[icluster].shape[1]):\n",
    "    x,y = channel_positions[iw]\n",
    "    plt.plot(x+0.4*np.arange(waveforms.shape[1]),waveforms[icluster][:,iw]*0.1+y,lw=0.5,color='k');\n",
    "    plt.plot(x+0.4*imaxim[icluster][iw],maxim[icluster][iw]*0.1+y,'ro',markersize = 1);\n",
    "    plt.plot(x+0.4*iminim[icluster][iw],minim[icluster][iw]*0.1+y,'bo',markersize = 1);\n",
    "    col='k'\n",
    "    if iw == pc2[icluster]:\n",
    "        col = 'r'\n",
    "    if iw == principal_channel[icluster]:\n",
    "        col = 'g'\n",
    "\n",
    "    plt.text(x+0.4*30,y,'{0:.0f}'.format(maxim[icluster][iw]-minim[icluster][iw]),fontsize=5,color = col);"
   ]
  },
  {
   "cell_type": "code",
   "execution_count": null,
   "metadata": {},
   "outputs": [],
   "source": [
    "imaxim.shape"
   ]
  },
  {
   "cell_type": "code",
   "execution_count": null,
   "metadata": {},
   "outputs": [],
   "source": [
    "\n",
    "# folder\n",
    "dat2 = map_binary(folder/'filtered_recording.ap.bin',meta['nchannels'])\n",
    "meta = load_dict_from_h5(folder/'filtered_recording.ap.metadata.hdf')\n",
    "meta['file_offsets'],dat.file_sample_offsets,dat.shape,dat2.shape"
   ]
  },
  {
   "cell_type": "code",
   "execution_count": null,
   "metadata": {},
   "outputs": [],
   "source": [
    "\n",
    "folder = Path('/scratch/ks25_sorting_20230905_131941_tr9v')\n",
    "sessionfiles = ['/home/data/JC131/20230901_113844/ephys_g0/ephys_g0_imec0/ephys_g0_t0.imec0.ap.bin',\n",
    "                '/home/data/JC131/20230901_115632/ephys_g1/ephys_g1_imec0/ephys_g1_t0.imec0.ap.bin']\n",
    "\n",
    "dat = RawRecording(sessionfiles,return_preprocessed = False)\n",
    "\n",
    "meta = load_dict_from_h5(folder/'filtered_recording.ap.metadata.hdf')\n",
    "dat2 = map_binary(folder/'filtered_recording.ap.bin',meta['nchannels'])\n",
    "\n",
    "sp = Clusters(folder)\n",
    "\n",
    "mwaves = extract_waveform_set(spike_times = sp,data = dat2,chmap = dat.channel_info.channel_idx.values,max_n_spikes=1000, chunksize=10)"
   ]
  },
  {
   "cell_type": "code",
   "execution_count": null,
   "metadata": {},
   "outputs": [],
   "source": [
    "waveforms = {}\n",
    "for iclu,w in zip(sp.unique_clusters,mwaves):\n",
    "    waveforms[iclu] = w\n",
    "\n",
    "import h5py\n",
    "\n",
    "\n",
    "save_dict_to_h5(folder/'cluster_waveforms.hdf',waveforms)\n"
   ]
  },
  {
   "cell_type": "code",
   "execution_count": null,
   "metadata": {},
   "outputs": [],
   "source": [
    "\n",
    "\n",
    "#waveforms = load_dict_from_h5(folder/'cluster_waveforms.hdf')\n",
    "\n",
    "import h5py as h5\n",
    "waveforms_file = h5.File(folder/'cluster_waveforms.hdf','r')"
   ]
  },
  {
   "cell_type": "code",
   "execution_count": null,
   "metadata": {},
   "outputs": [],
   "source": [
    "\n",
    "\n",
    "\n",
    "from multiprocessing.pool import Pool\n",
    "from multiprocessing import cpu_count\n",
    "\n",
    "def _mean_std_from_cluster_waveforms(icluster,folder):\n",
    "    import h5py as h5\n",
    "    with  h5.File(folder/'cluster_waveforms.hdf','r') as waveforms_file:\n",
    "        mwave = np.mean(waveforms_file[str(icluster)][()],axis = 0) \n",
    "        stdwave = np.std(waveforms_file[str(icluster)][()],axis = 0)/waveforms_file[str(icluster)].shape[0]\n",
    "    return np.stack([mwave,stdwave])\n",
    "\n",
    "with Pool(12) as pool:\n",
    "    result = [r for r in tqdm(pool.imap(partial(_mean_std_from_cluster_waveforms,folder = folder),sp.unique_clusters),\n",
    "                    desc='Computing mean waveforms', total = len(sp))]\n",
    "    meanwaves = np.stack([r[0] for r in result])\n",
    "    sterrwaves = np.stack([r[1] for r in result])\n",
    "    \n",
    "    \n",
    "    \n",
    "    \n",
    "    \n"
   ]
  },
  {
   "cell_type": "code",
   "execution_count": null,
   "metadata": {},
   "outputs": [],
   "source": []
  },
  {
   "cell_type": "code",
   "execution_count": null,
   "metadata": {},
   "outputs": [],
   "source": [
    "# %matplotlib widget \n",
    "import pylab as plt\n",
    "from spks import *\n",
    "\n",
    "plt.figure()\n",
    "\n",
    "\n",
    "iclus = 200\n",
    "for mw in mwaves[iclus][:20]:\n",
    "    plot_footprints(waves = ,\n",
    "                    channel_xy = np.stack(dat.channel_info.channel_coord.values), gain=[15,0.07],lw = 0.1);\n",
    "\n",
    "plot_footprints(waves = mwaves[iclus].mean(axis=0),\n",
    "                    channel_xy = np.stack(dat.channel_info.channel_coord.values), gain=[15,0.07],lw = 1,color = 'r');"
   ]
  },
  {
   "cell_type": "code",
   "execution_count": null,
   "metadata": {},
   "outputs": [],
   "source": [
    "\n",
    "pos, peak = waveforms_position(sp.templates_raw,sp.channel_positions)\n",
    "peak_to_peak = (sp.templates_raw.max(axis = 1) - sp.templates_raw.min(axis = 1)).max(axis=1)\n",
    "\n",
    "###\n",
    "import pylab as plt\n",
    "%matplotlib widget\n",
    "plt.figure()\n",
    "plt.plot(sp.channel_positions[:,0],sp.channel_positions[:,1],'o',color='lightgray')\n",
    "plt.scatter(pos[20,0],pos[20,1],30,peak_to_peak[20],alpha = 0.5,cmap='hot')\n",
    "plt.colorbar()\n",
    "plt.plot(sp.channel_positions[peak[20],0],sp.channel_positions[peak[20],1],'x')\n",
    "from spks.viz import plot_footprints\n",
    "plot_footprints(sp.templates_raw[20],sp.channel_positions,gain=[5,0.3]);\n",
    "plt.show()"
   ]
  },
  {
   "cell_type": "code",
   "execution_count": null,
   "metadata": {},
   "outputs": [],
   "source": [
    "sp['unit selection','probe','shank','unit']"
   ]
  },
  {
   "cell_type": "code",
   "execution_count": null,
   "metadata": {},
   "outputs": [],
   "source": [
    "spike_clusters = sp.clusters\n",
    "spike_times = sp.spike_times\n"
   ]
  },
  {
   "cell_type": "code",
   "execution_count": null,
   "metadata": {},
   "outputs": [],
   "source": [
    "sp.templates_raw.shape"
   ]
  },
  {
   "cell_type": "code",
   "execution_count": null,
   "metadata": {},
   "outputs": [],
   "source": [
    "\n",
    "\n",
    "get_overlapping_spikes_indices(sp.spike_times,sp.clusters, sp.templates_raw, sp.channel_positions)"
   ]
  },
  {
   "cell_type": "code",
   "execution_count": null,
   "metadata": {},
   "outputs": [],
   "source": [
    "\n"
   ]
  },
  {
   "cell_type": "code",
   "execution_count": null,
   "metadata": {},
   "outputs": [],
   "source": [
    "\n",
    "\n"
   ]
  },
  {
   "cell_type": "code",
   "execution_count": null,
   "metadata": {},
   "outputs": [],
   "source": [
    "    "
   ]
  },
  {
   "cell_type": "code",
   "execution_count": null,
   "metadata": {},
   "outputs": [],
   "source": [
    "list(folder.glob(\"*\"))"
   ]
  },
  {
   "cell_type": "code",
   "execution_count": null,
   "metadata": {},
   "outputs": [],
   "source": [
    "from spks.sorting import run_ks25\n",
    "sessionfiles = ['/home/data/JC131/20230901_113844/ephys_g0/ephys_g0_imec0/ephys_g0_t0.imec0.ap.bin',\n",
    "                   '/home/data/JC131/20230901_115632/ephys_g1/ephys_g1_imec0/ephys_g1_t0.imec0.ap.bin']\n",
    "\n",
    "run_ks25(sessionfiles)\n"
   ]
  }
 ],
 "metadata": {
  "kernelspec": {
   "display_name": "Python 3",
   "language": "python",
   "name": "python3"
  },
  "language_info": {
   "codemirror_mode": {
    "name": "ipython",
    "version": 3
   },
   "file_extension": ".py",
   "mimetype": "text/x-python",
   "name": "python",
   "nbconvert_exporter": "python",
   "pygments_lexer": "ipython3",
   "version": "3.10.12"
  },
  "orig_nbformat": 4
 },
 "nbformat": 4,
 "nbformat_minor": 2
}
