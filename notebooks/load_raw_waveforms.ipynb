{
 "cells": [
  {
   "cell_type": "markdown",
   "metadata": {},
   "source": [
    "## Load raw waveforms from binary file\n",
    "\n",
    "In this notebook, we will load raw waveforms  from a binary file and plot them according to channel locations.\n",
    "\n",
    "TODO: compute amplitudes of waveforms"
   ]
  },
  {
   "cell_type": "code",
   "execution_count": 17,
   "metadata": {},
   "outputs": [
    {
     "name": "stdout",
     "output_type": "stream",
     "text": [
      "The autoreload extension is already loaded. To reload it, use:\n",
      "  %reload_ext autoreload\n"
     ]
    }
   ],
   "source": [
    "%load_ext autoreload\n",
    "%autoreload 2\n",
    "\n",
    "import numpy as np\n",
    "import matplotlib.pyplot as plt\n",
    "\n",
    "import spks.io as sio\n",
    "from spks.raw import RawRecording"
   ]
  },
  {
   "cell_type": "code",
   "execution_count": 18,
   "metadata": {},
   "outputs": [],
   "source": [
    "DATADIR = 'V:/Subjects/MM008/'\n",
    "PROBE_INDEX = 0\n",
    "SESSION_INDEX = 0\n",
    "#spikesorting_folders = sio.list_kilosort_result_paths(DATADIR)[PROBE_INDEX]\n",
    "KILOSORT_FOLDER = r'V:/Subjects/MM012/2023-08-11/001/spike_sorters/pykilosort/probe00'\n",
    "#COMPRESSED_BINARY_FILE = r'V:/Subjects/MM012/2023-08-11/001/raw_ephys_data/probe00/_spikeglx_ephysData_g0_t0.imec0.ap.cbin' \n",
    "COMPRESSED_BINARY_FILE = r'X:/test_ephys_session/_spikeglx_ephysData_g0_t0.imec0.ap.bin' #decompressed"
   ]
  },
  {
   "cell_type": "markdown",
   "metadata": {},
   "source": [
    "### Get the spike times and clusters from putative single units\n",
    "We will use the Kilosort labels here, but this can also be done after phy curation"
   ]
  },
  {
   "cell_type": "code",
   "execution_count": 19,
   "metadata": {},
   "outputs": [
    {
     "name": "stdout",
     "output_type": "stream",
     "text": [
      "Using kilosort data (either there is no phy curation, or the user has specified that kilosort data should be used).\n",
      "dict_keys(['spks', 'clusters', 'labels'])\n"
     ]
    }
   ],
   "source": [
    "raw_recording = RawRecording([COMPRESSED_BINARY_FILE], return_preprocessed=True) #TODO: make this handle .cbin files. Turn on preprocessing?\n",
    "clusters = sio.load_cluster_data(KILOSORT_FOLDER)\n",
    "print(clusters.keys())\n",
    "\n",
    "cluster_labels = clusters['labels'].KSLabel.values\n",
    "cluster_ids = clusters['labels'].cluster_id.values\n",
    "good_cluster_ids = cluster_ids[np.where(cluster_labels == 'good')]\n",
    "#print(good_cluster_ids)\n",
    "\n",
    "good_spikes = clusters['spks'][np.isin(clusters['clusters'],good_cluster_ids)] \n",
    "good_clusters = clusters['clusters'][np.isin(clusters['clusters'],good_cluster_ids)]  \n",
    "\n",
    "assert good_spikes.shape == good_clusters.shape"
   ]
  },
  {
   "cell_type": "markdown",
   "metadata": {},
   "source": [
    "### Extract all waveforms from the binary"
   ]
  },
  {
   "cell_type": "code",
   "execution_count": 20,
   "metadata": {},
   "outputs": [
    {
     "data": {
      "text/plain": [
       "34074"
      ]
     },
     "execution_count": 20,
     "metadata": {},
     "output_type": "execute_result"
    }
   ],
   "source": [
    "CLUSTER_ID = 111\n",
    "good_spikes = good_spikes[good_clusters == CLUSTER_ID] # only get spikes from one cluster\n",
    "len(good_spikes)"
   ]
  },
  {
   "cell_type": "code",
   "execution_count": 21,
   "metadata": {},
   "outputs": [
    {
     "name": "stdout",
     "output_type": "stream",
     "text": [
      "\n",
      "Waveforms mapped to C:\\Data\\churchland\\CFEvrqwsaEJVaVRzmBJH.bin\n",
      "Extracting waveforms with chunk-size 1000\n"
     ]
    },
    {
     "name": "stderr",
     "output_type": "stream",
     "text": [
      "100%|██████████| 35/35 [00:02<00:00, 13.88it/s]\n"
     ]
    },
    {
     "data": {
      "text/plain": [
       "(34074, 60, 385)"
      ]
     },
     "execution_count": 21,
     "metadata": {},
     "output_type": "execute_result"
    }
   ],
   "source": [
    "import spks.max_waveforms as spwaves\n",
    "\n",
    "SCRATCH_DIR = 'C:/Data/churchland' # fast disk to write memmap file\n",
    "nchannels = raw_recording.shape[1]\n",
    "\n",
    "waves = spwaves.extract_memmapped_waveforms(COMPRESSED_BINARY_FILE, SCRATCH_DIR, nchannels, good_spikes)\n",
    "waves.shape # (nspikes, nsamples, nchannels)"
   ]
  },
  {
   "cell_type": "code",
   "execution_count": 23,
   "metadata": {},
   "outputs": [
    {
     "name": "stdout",
     "output_type": "stream",
     "text": [
      "(383, 2)\n"
     ]
    },
    {
     "ename": "NameError",
     "evalue": "name 'waves' is not defined",
     "output_type": "error",
     "traceback": [
      "\u001b[1;31m---------------------------------------------------------------------------\u001b[0m",
      "\u001b[1;31mNameError\u001b[0m                                 Traceback (most recent call last)",
      "Cell \u001b[1;32mIn[23], line 6\u001b[0m\n\u001b[0;32m      4\u001b[0m channel_idx \u001b[39m=\u001b[39m raw_recording\u001b[39m.\u001b[39mmetadata[\u001b[39m0\u001b[39m][\u001b[39m'\u001b[39m\u001b[39mchannel_idx\u001b[39m\u001b[39m'\u001b[39m]\n\u001b[0;32m      5\u001b[0m \u001b[39mprint\u001b[39m(channel_xy\u001b[39m.\u001b[39mshape)\n\u001b[1;32m----> 6\u001b[0m plot_footprints(np\u001b[39m.\u001b[39mmean(waves[:,:,channel_idx], axis\u001b[39m=\u001b[39m\u001b[39m0\u001b[39m), channel_xy)\n\u001b[0;32m      7\u001b[0m plt\u001b[39m.\u001b[39mshow()\n\u001b[0;32m      9\u001b[0m \u001b[39mdel\u001b[39;00m waves \u001b[39m#deletes the temporary bin file\u001b[39;00m\n",
      "\u001b[1;31mNameError\u001b[0m: name 'waves' is not defined"
     ]
    }
   ],
   "source": [
    "from spks.viz import plot_footprints\n",
    "\n",
    "channel_xy = raw_recording.metadata[0]['coords']\n",
    "channel_idx = raw_recording.metadata[0]['channel_idx']\n",
    "print(channel_xy.shape)\n",
    "plot_footprints(np.mean(waves[:,:,channel_idx], axis=0), channel_xy)\n",
    "plt.show()\n",
    "\n",
    "del waves #deletes the temporary bin file"
   ]
  }
 ],
 "metadata": {
  "kernelspec": {
   "display_name": "spks",
   "language": "python",
   "name": "python3"
  },
  "language_info": {
   "codemirror_mode": {
    "name": "ipython",
    "version": 3
   },
   "file_extension": ".py",
   "mimetype": "text/x-python",
   "name": "python",
   "nbconvert_exporter": "python",
   "pygments_lexer": "ipython3",
   "version": "3.10.12"
  },
  "orig_nbformat": 4
 },
 "nbformat": 4,
 "nbformat_minor": 2
}
