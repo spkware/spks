{
 "cells": [
  {
   "cell_type": "markdown",
   "metadata": {},
   "source": [
    "## Load raw waveforms from binary file\n",
    "\n",
    "In this notebook, we will load raw waveforms  from a binary file and plot them according to channel locations.\n",
    "\n",
    "TODO: compute amplitudes of waveforms"
   ]
  },
  {
   "cell_type": "code",
   "execution_count": 1,
   "metadata": {},
   "outputs": [
    {
     "name": "stderr",
     "output_type": "stream",
     "text": [
      "c:\\Users\\mmelin\\anaconda3\\envs\\spks\\lib\\site-packages\\torchaudio\\backend\\utils.py:74: UserWarning: No audio backend is available.\n",
      "  warnings.warn(\"No audio backend is available.\")\n"
     ]
    }
   ],
   "source": [
    "%load_ext autoreload\n",
    "%autoreload 2\n",
    "\n",
    "import numpy as np\n",
    "import matplotlib.pyplot as plt\n",
    "\n",
    "import spks.io as sio\n",
    "from spks.raw import RawRecording"
   ]
  },
  {
   "cell_type": "code",
   "execution_count": 2,
   "metadata": {},
   "outputs": [],
   "source": [
    "DATADIR = 'V:/Subjects/MM008/'\n",
    "PROBE_INDEX = 0\n",
    "SESSION_INDEX = 0\n",
    "#spikesorting_folders = sio.list_kilosort_result_paths(DATADIR)[PROBE_INDEX]\n",
    "KILOSORT_FOLDER = r'V:/Subjects/MM012/2023-08-11/001/spike_sorters/pykilosort/probe00'\n",
    "#COMPRESSED_BINARY_FILE = r'V:/Subjects/MM012/2023-08-11/001/raw_ephys_data/probe00/_spikeglx_ephysData_g0_t0.imec0.ap.cbin' \n",
    "COMPRESSED_BINARY_FILE = r'X:/test_ephys_session/_spikeglx_ephysData_g0_t0.imec0.ap.bin' #decompressed"
   ]
  },
  {
   "cell_type": "markdown",
   "metadata": {},
   "source": [
    "### Get the spike times and clusters from putative single units\n",
    "We will use the Kilosort labels here, but this can also be done after phy curation"
   ]
  },
  {
   "cell_type": "code",
   "execution_count": 3,
   "metadata": {},
   "outputs": [
    {
     "name": "stdout",
     "output_type": "stream",
     "text": [
      "Using kilosort data (either there is no phy curation, or the user has specified that kilosort data should be used).\n",
      "dict_keys(['spks', 'clusters', 'labels'])\n"
     ]
    }
   ],
   "source": [
    "raw_recording = RawRecording([COMPRESSED_BINARY_FILE], return_preprocessed=True) #TODO: make this handle .cbin files. Turn on preprocessing?\n",
    "clusters = sio.load_cluster_data(KILOSORT_FOLDER)\n",
    "print(clusters.keys())\n",
    "\n",
    "cluster_labels = clusters['labels'].KSLabel.values\n",
    "cluster_ids = clusters['labels'].cluster_id.values\n",
    "good_cluster_ids = cluster_ids[np.where(cluster_labels == 'good')]\n",
    "#print(good_cluster_ids)\n",
    "\n",
    "good_spikes = clusters['spks'][np.isin(clusters['clusters'],good_cluster_ids)] \n",
    "good_clusters = clusters['clusters'][np.isin(clusters['clusters'],good_cluster_ids)]  \n",
    "\n",
    "assert good_spikes.shape == good_clusters.shape"
   ]
  },
  {
   "cell_type": "markdown",
   "metadata": {},
   "source": [
    "### Extract all waveforms from the binary"
   ]
  },
  {
   "cell_type": "code",
   "execution_count": 4,
   "metadata": {},
   "outputs": [
    {
     "name": "stdout",
     "output_type": "stream",
     "text": [
      "We will extract 34074 spikes for this cluster\n"
     ]
    }
   ],
   "source": [
    "CLUSTER_ID = 111\n",
    "good_spikes = good_spikes[good_clusters == CLUSTER_ID] # only get spikes from one cluster\n",
    "print(f'We will extract {len(good_spikes)} spikes for this cluster')"
   ]
  },
  {
   "cell_type": "code",
   "execution_count": 5,
   "metadata": {},
   "outputs": [
    {
     "name": "stdout",
     "output_type": "stream",
     "text": [
      "\n",
      "Waveforms mapped to C:\\Data\\churchland\\jPVdxdxVKuxBtsDwrJjH.bin\n"
     ]
    },
    {
     "ename": "TypeError",
     "evalue": "int() argument must be a string, a bytes-like object or a real number, not 'NoneType'",
     "output_type": "error",
     "traceback": [
      "\u001b[1;31m---------------------------------------------------------------------------\u001b[0m",
      "\u001b[1;31mTypeError\u001b[0m                                 Traceback (most recent call last)",
      "File \u001b[1;32mc:\\Users\\mmelin\\anaconda3\\envs\\spks\\lib\\site-packages\\numpy\\core\\fromnumeric.py:59\u001b[0m, in \u001b[0;36m_wrapfunc\u001b[1;34m(obj, method, *args, **kwds)\u001b[0m\n\u001b[0;32m     58\u001b[0m \u001b[39mtry\u001b[39;00m:\n\u001b[1;32m---> 59\u001b[0m     \u001b[39mreturn\u001b[39;00m bound(\u001b[39m*\u001b[39margs, \u001b[39m*\u001b[39m\u001b[39m*\u001b[39mkwds)\n\u001b[0;32m     60\u001b[0m \u001b[39mexcept\u001b[39;00m \u001b[39mTypeError\u001b[39;00m:\n\u001b[0;32m     61\u001b[0m     \u001b[39m# A TypeError occurs if the object does have such a method in its\u001b[39;00m\n\u001b[0;32m     62\u001b[0m     \u001b[39m# class, but its signature is not identical to that of NumPy's. This\u001b[39;00m\n\u001b[1;32m   (...)\u001b[0m\n\u001b[0;32m     66\u001b[0m     \u001b[39m# Call _wrapit from within the except clause to ensure a potential\u001b[39;00m\n\u001b[0;32m     67\u001b[0m     \u001b[39m# exception has a traceback chain.\u001b[39;00m\n",
      "\u001b[1;31mTypeError\u001b[0m: int() argument must be a string, a bytes-like object or a real number, not 'NoneType'",
      "\nDuring handling of the above exception, another exception occurred:\n",
      "\u001b[1;31mTypeError\u001b[0m                                 Traceback (most recent call last)",
      "Cell \u001b[1;32mIn[5], line 5\u001b[0m\n\u001b[0;32m      3\u001b[0m SCRATCH_DIR \u001b[39m=\u001b[39m \u001b[39m'\u001b[39m\u001b[39mC:/Data/churchland\u001b[39m\u001b[39m'\u001b[39m \u001b[39m# fast disk to write memmap file\u001b[39;00m\n\u001b[0;32m      4\u001b[0m nchannels \u001b[39m=\u001b[39m raw_recording\u001b[39m.\u001b[39mshape[\u001b[39m1\u001b[39m]\n\u001b[1;32m----> 5\u001b[0m waves \u001b[39m=\u001b[39m spwaves\u001b[39m.\u001b[39;49mextract_memmapped_waveforms(COMPRESSED_BINARY_FILE, SCRATCH_DIR, nchannels, good_spikes[:\u001b[39m10000\u001b[39;49m])\n\u001b[0;32m      6\u001b[0m waves\u001b[39m.\u001b[39mshape \u001b[39m# (nspikes, nsamples, nchannels)\u001b[39;00m\n",
      "File \u001b[1;32mc:\\data\\churchland\\spks\\spks\\max_waveforms.py:157\u001b[0m, in \u001b[0;36mextract_memmapped_waveforms\u001b[1;34m(binfile_path, scratch_directory, nchannels, timestamps, n_spikes_per_chunk, npre, npost, chmap)\u001b[0m\n\u001b[0;32m    153\u001b[0m \u001b[39mfrom\u001b[39;00m \u001b[39mmultiprocessing\u001b[39;00m\u001b[39m.\u001b[39;00m\u001b[39mpool\u001b[39;00m \u001b[39mimport\u001b[39;00m ThreadPool\n\u001b[0;32m    154\u001b[0m \u001b[39mwith\u001b[39;00m ThreadPool(processes\u001b[39m=\u001b[39mcpu_count(),\n\u001b[0;32m    155\u001b[0m           initializer\u001b[39m=\u001b[39m__par_init_waveforms,\n\u001b[0;32m    156\u001b[0m           initargs\u001b[39m=\u001b[39m(binfile_path, tfile\u001b[39m.\u001b[39mfilename, mmap_shape, timestamps, time_indices)) \u001b[39mas\u001b[39;00m pool:\n\u001b[1;32m--> 157\u001b[0m         \u001b[39mfor\u001b[39;00m _ \u001b[39min\u001b[39;00m tqdm(pool\u001b[39m.\u001b[39;49mmap(mpfunc, chunk_inds), total\u001b[39m=\u001b[39m\u001b[39mlen\u001b[39m(chunk_inds)): \u001b[39m#for tqdm iterator\u001b[39;00m\n\u001b[0;32m    158\u001b[0m             \u001b[39mpass\u001b[39;00m\n\u001b[0;32m    159\u001b[0m         \u001b[39m#pool.map(mpfunc, chunk_inds)\u001b[39;00m\n",
      "File \u001b[1;32mc:\\Users\\mmelin\\anaconda3\\envs\\spks\\lib\\multiprocessing\\pool.py:367\u001b[0m, in \u001b[0;36mPool.map\u001b[1;34m(self, func, iterable, chunksize)\u001b[0m\n\u001b[0;32m    362\u001b[0m \u001b[39mdef\u001b[39;00m \u001b[39mmap\u001b[39m(\u001b[39mself\u001b[39m, func, iterable, chunksize\u001b[39m=\u001b[39m\u001b[39mNone\u001b[39;00m):\n\u001b[0;32m    363\u001b[0m \u001b[39m    \u001b[39m\u001b[39m'''\u001b[39;00m\n\u001b[0;32m    364\u001b[0m \u001b[39m    Apply `func` to each element in `iterable`, collecting the results\u001b[39;00m\n\u001b[0;32m    365\u001b[0m \u001b[39m    in a list that is returned.\u001b[39;00m\n\u001b[0;32m    366\u001b[0m \u001b[39m    '''\u001b[39;00m\n\u001b[1;32m--> 367\u001b[0m     \u001b[39mreturn\u001b[39;00m \u001b[39mself\u001b[39;49m\u001b[39m.\u001b[39;49m_map_async(func, iterable, mapstar, chunksize)\u001b[39m.\u001b[39;49mget()\n",
      "File \u001b[1;32mc:\\Users\\mmelin\\anaconda3\\envs\\spks\\lib\\multiprocessing\\pool.py:774\u001b[0m, in \u001b[0;36mApplyResult.get\u001b[1;34m(self, timeout)\u001b[0m\n\u001b[0;32m    772\u001b[0m     \u001b[39mreturn\u001b[39;00m \u001b[39mself\u001b[39m\u001b[39m.\u001b[39m_value\n\u001b[0;32m    773\u001b[0m \u001b[39melse\u001b[39;00m:\n\u001b[1;32m--> 774\u001b[0m     \u001b[39mraise\u001b[39;00m \u001b[39mself\u001b[39m\u001b[39m.\u001b[39m_value\n",
      "File \u001b[1;32mc:\\Users\\mmelin\\anaconda3\\envs\\spks\\lib\\multiprocessing\\pool.py:125\u001b[0m, in \u001b[0;36mworker\u001b[1;34m(inqueue, outqueue, initializer, initargs, maxtasks, wrap_exception)\u001b[0m\n\u001b[0;32m    123\u001b[0m job, i, func, args, kwds \u001b[39m=\u001b[39m task\n\u001b[0;32m    124\u001b[0m \u001b[39mtry\u001b[39;00m:\n\u001b[1;32m--> 125\u001b[0m     result \u001b[39m=\u001b[39m (\u001b[39mTrue\u001b[39;00m, func(\u001b[39m*\u001b[39margs, \u001b[39m*\u001b[39m\u001b[39m*\u001b[39mkwds))\n\u001b[0;32m    126\u001b[0m \u001b[39mexcept\u001b[39;00m \u001b[39mException\u001b[39;00m \u001b[39mas\u001b[39;00m e:\n\u001b[0;32m    127\u001b[0m     \u001b[39mif\u001b[39;00m wrap_exception \u001b[39mand\u001b[39;00m func \u001b[39mis\u001b[39;00m \u001b[39mnot\u001b[39;00m _helper_reraises_exception:\n",
      "File \u001b[1;32mc:\\Users\\mmelin\\anaconda3\\envs\\spks\\lib\\multiprocessing\\pool.py:48\u001b[0m, in \u001b[0;36mmapstar\u001b[1;34m(args)\u001b[0m\n\u001b[0;32m     47\u001b[0m \u001b[39mdef\u001b[39;00m \u001b[39mmapstar\u001b[39m(args):\n\u001b[1;32m---> 48\u001b[0m     \u001b[39mreturn\u001b[39;00m \u001b[39mlist\u001b[39;49m(\u001b[39mmap\u001b[39;49m(\u001b[39m*\u001b[39;49margs))\n",
      "File \u001b[1;32mc:\\data\\churchland\\spks\\spks\\max_waveforms.py:66\u001b[0m, in \u001b[0;36m_work_extract_waveforms\u001b[1;34m(time_indices, chunk_inds, flush_memory)\u001b[0m\n\u001b[0;32m     64\u001b[0m holder \u001b[39m=\u001b[39m np\u001b[39m.\u001b[39mempty((\u001b[39mlen\u001b[39m(chunk_inds),\u001b[39mlen\u001b[39m(time_indices),\u001b[39mlen\u001b[39m(chmap)))\n\u001b[0;32m     65\u001b[0m \u001b[39mfor\u001b[39;00m i,s \u001b[39min\u001b[39;00m \u001b[39menumerate\u001b[39m(spike_times):\n\u001b[1;32m---> 66\u001b[0m     holder[i,:,:] \u001b[39m=\u001b[39m np\u001b[39m.\u001b[39;49mtake(data[time_indices\u001b[39m+\u001b[39;49ms,:]\u001b[39m.\u001b[39;49mastype(np\u001b[39m.\u001b[39;49mint16),chmap,axis\u001b[39m=\u001b[39;49m\u001b[39m1\u001b[39;49m)\n\u001b[0;32m     67\u001b[0m waveforms[chunk_inds,:,:] \u001b[39m=\u001b[39m holder\n\u001b[0;32m     69\u001b[0m \u001b[39mif\u001b[39;00m flush_memory:\n",
      "File \u001b[1;32mc:\\Users\\mmelin\\anaconda3\\envs\\spks\\lib\\site-packages\\numpy\\core\\fromnumeric.py:192\u001b[0m, in \u001b[0;36mtake\u001b[1;34m(a, indices, axis, out, mode)\u001b[0m\n\u001b[0;32m     95\u001b[0m \u001b[39m@array_function_dispatch\u001b[39m(_take_dispatcher)\n\u001b[0;32m     96\u001b[0m \u001b[39mdef\u001b[39;00m \u001b[39mtake\u001b[39m(a, indices, axis\u001b[39m=\u001b[39m\u001b[39mNone\u001b[39;00m, out\u001b[39m=\u001b[39m\u001b[39mNone\u001b[39;00m, mode\u001b[39m=\u001b[39m\u001b[39m'\u001b[39m\u001b[39mraise\u001b[39m\u001b[39m'\u001b[39m):\n\u001b[0;32m     97\u001b[0m \u001b[39m    \u001b[39m\u001b[39m\"\"\"\u001b[39;00m\n\u001b[0;32m     98\u001b[0m \u001b[39m    Take elements from an array along an axis.\u001b[39;00m\n\u001b[0;32m     99\u001b[0m \n\u001b[1;32m   (...)\u001b[0m\n\u001b[0;32m    190\u001b[0m \u001b[39m           [5, 7]])\u001b[39;00m\n\u001b[0;32m    191\u001b[0m \u001b[39m    \"\"\"\u001b[39;00m\n\u001b[1;32m--> 192\u001b[0m     \u001b[39mreturn\u001b[39;00m _wrapfunc(a, \u001b[39m'\u001b[39;49m\u001b[39mtake\u001b[39;49m\u001b[39m'\u001b[39;49m, indices, axis\u001b[39m=\u001b[39;49maxis, out\u001b[39m=\u001b[39;49mout, mode\u001b[39m=\u001b[39;49mmode)\n",
      "File \u001b[1;32mc:\\Users\\mmelin\\anaconda3\\envs\\spks\\lib\\site-packages\\numpy\\core\\fromnumeric.py:68\u001b[0m, in \u001b[0;36m_wrapfunc\u001b[1;34m(obj, method, *args, **kwds)\u001b[0m\n\u001b[0;32m     59\u001b[0m     \u001b[39mreturn\u001b[39;00m bound(\u001b[39m*\u001b[39margs, \u001b[39m*\u001b[39m\u001b[39m*\u001b[39mkwds)\n\u001b[0;32m     60\u001b[0m \u001b[39mexcept\u001b[39;00m \u001b[39mTypeError\u001b[39;00m:\n\u001b[0;32m     61\u001b[0m     \u001b[39m# A TypeError occurs if the object does have such a method in its\u001b[39;00m\n\u001b[0;32m     62\u001b[0m     \u001b[39m# class, but its signature is not identical to that of NumPy's. This\u001b[39;00m\n\u001b[1;32m   (...)\u001b[0m\n\u001b[0;32m     66\u001b[0m     \u001b[39m# Call _wrapit from within the except clause to ensure a potential\u001b[39;00m\n\u001b[0;32m     67\u001b[0m     \u001b[39m# exception has a traceback chain.\u001b[39;00m\n\u001b[1;32m---> 68\u001b[0m     \u001b[39mreturn\u001b[39;00m _wrapit(obj, method, \u001b[39m*\u001b[39margs, \u001b[39m*\u001b[39m\u001b[39m*\u001b[39mkwds)\n",
      "File \u001b[1;32mc:\\Users\\mmelin\\anaconda3\\envs\\spks\\lib\\site-packages\\numpy\\core\\fromnumeric.py:45\u001b[0m, in \u001b[0;36m_wrapit\u001b[1;34m(obj, method, *args, **kwds)\u001b[0m\n\u001b[0;32m     43\u001b[0m \u001b[39mexcept\u001b[39;00m \u001b[39mAttributeError\u001b[39;00m:\n\u001b[0;32m     44\u001b[0m     wrap \u001b[39m=\u001b[39m \u001b[39mNone\u001b[39;00m\n\u001b[1;32m---> 45\u001b[0m result \u001b[39m=\u001b[39m \u001b[39mgetattr\u001b[39m(asarray(obj), method)(\u001b[39m*\u001b[39margs, \u001b[39m*\u001b[39m\u001b[39m*\u001b[39mkwds)\n\u001b[0;32m     46\u001b[0m \u001b[39mif\u001b[39;00m wrap:\n\u001b[0;32m     47\u001b[0m     \u001b[39mif\u001b[39;00m \u001b[39mnot\u001b[39;00m \u001b[39misinstance\u001b[39m(result, mu\u001b[39m.\u001b[39mndarray):\n",
      "\u001b[1;31mTypeError\u001b[0m: int() argument must be a string, a bytes-like object or a real number, not 'NoneType'"
     ]
    }
   ],
   "source": [
    "import spks.max_waveforms as spwaves\n",
    "\n",
    "SCRATCH_DIR = 'C:/Data/churchland' # fast disk to write memmap file\n",
    "nchannels = raw_recording.shape[1]\n",
    "waves = spwaves.extract_memmapped_waveforms(COMPRESSED_BINARY_FILE, SCRATCH_DIR, nchannels, good_spikes[:100])\n",
    "waves.shape # (nspikes, nsamples, nchannels)"
   ]
  },
  {
   "cell_type": "code",
   "execution_count": null,
   "metadata": {},
   "outputs": [],
   "source": [
    "from spks.viz import plot_footprints\n",
    "\n",
    "channel_xy = raw_recording.metadata[0]['coords']\n",
    "channel_idx = raw_recording.metadata[0]['channel_idx']\n",
    "print(channel_xy.shape)\n",
    "plot_footprints(np.mean(waves[:,:,channel_idx], axis=0), channel_xy)\n",
    "plt.show()\n",
    "\n",
    "del waves #deletes the temporary bin file"
   ]
  }
 ],
 "metadata": {
  "kernelspec": {
   "display_name": "spks",
   "language": "python",
   "name": "python3"
  },
  "language_info": {
   "codemirror_mode": {
    "name": "ipython",
    "version": 3
   },
   "file_extension": ".py",
   "mimetype": "text/x-python",
   "name": "python",
   "nbconvert_exporter": "python",
   "pygments_lexer": "ipython3",
   "version": "3.10.12"
  },
  "orig_nbformat": 4
 },
 "nbformat": 4,
 "nbformat_minor": 2
}
